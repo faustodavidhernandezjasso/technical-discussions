{
  "nbformat": 4,
  "nbformat_minor": 0,
  "metadata": {
    "colab": {
      "provenance": [],
      "authorship_tag": "ABX9TyOxTd4aFlkW8RvGBwaxyDQU",
      "include_colab_link": true
    },
    "kernelspec": {
      "name": "python3",
      "display_name": "Python 3"
    },
    "language_info": {
      "name": "python"
    }
  },
  "cells": [
    {
      "cell_type": "markdown",
      "metadata": {
        "id": "view-in-github",
        "colab_type": "text"
      },
      "source": [
        "<a href=\"https://colab.research.google.com/github/faustodavidhernandezjasso/technical-discussions/blob/main/lab01.ipynb\" target=\"_parent\"><img src=\"https://colab.research.google.com/assets/colab-badge.svg\" alt=\"Open In Colab\"/></a>"
      ]
    },
    {
      "cell_type": "code",
      "execution_count": 1,
      "metadata": {
        "id": "lAUucew6Hv7m"
      },
      "outputs": [],
      "source": [
        "def hello_user(name: str) -> str:\n",
        "  return \"Hello, \" + name"
      ]
    },
    {
      "cell_type": "code",
      "source": [
        "hello_user(\"Fausto\")"
      ],
      "metadata": {
        "colab": {
          "base_uri": "https://localhost:8080/",
          "height": 41
        },
        "id": "6KvscYZmH9WA",
        "outputId": "a6c4a8d5-5610-4d6f-b56f-165cfa3b188d"
      },
      "execution_count": 2,
      "outputs": [
        {
          "output_type": "execute_result",
          "data": {
            "text/plain": [
              "'Hello, Fausto'"
            ],
            "application/vnd.google.colaboratory.intrinsic+json": {
              "type": "string"
            }
          },
          "metadata": {},
          "execution_count": 2
        }
      ]
    },
    {
      "cell_type": "markdown",
      "source": [
        "# Practice Markdown\n",
        "## Artificial Intelligence\n",
        "### Agents\n",
        "**What is an agent?**\n",
        "**An _agent_ is anything that can be viewed as _perceiving_ its environment through _sensors_ and\n",
        "acting upon that environment through _actuators_.**\n",
        "#### Rationality\n",
        "- The performance measure that defines the criterion of success.\n",
        "- The agent’s prior knowledge of the environment.\n",
        "- The actions that the agent can perform.\n",
        "- The agent’s percept sequence to date.\n",
        "\n",
        "**Definition of a rational agent**\n",
        "\n",
        "> For each possible percept sequence, a rational agent should select an action that is ex-\n",
        "pected to maximize its performance measure, given the evidence provided by the percept\n",
        "sequence and whatever built-in knowledge the agent has.\n",
        "\n",
        "#### Omniscience, learning, and autonomy\n",
        "**Definition of omniscience**\n",
        "> An omniscient\n",
        "agent knows the actual outcome of its actions and can act accordingly; but omniscience is\n",
        "impossible in reality.\n"
      ],
      "metadata": {
        "id": "x2QIjL5AIIov"
      }
    }
  ]
}